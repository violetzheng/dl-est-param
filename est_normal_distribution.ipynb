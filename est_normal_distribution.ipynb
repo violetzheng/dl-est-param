{
 "cells": [
  {
   "cell_type": "markdown",
   "id": "82d827eb",
   "metadata": {},
   "source": [
    "# Generate Training/Testing Data (normal distribution)"
   ]
  },
  {
   "cell_type": "code",
   "execution_count": 1,
   "id": "7bdb538c",
   "metadata": {},
   "outputs": [],
   "source": [
    "import numpy as np\n",
    "import matplotlib.pyplot as plt\n",
    "import torch \n",
    "import sklearn\n",
    "from sklearn.model_selection import train_test_split\n",
    "from sklearn.preprocessing import MinMaxScaler\n",
    "from torch.utils.data import Dataset, DataLoader\n",
    "import torch.nn as nn\n"
   ]
  },
  {
   "cell_type": "code",
   "execution_count": 2,
   "id": "4041e6f2",
   "metadata": {},
   "outputs": [],
   "source": [
    "sampled_data = []\n",
    "matching_parameters = []\n",
    "MIN_N = 10e2\n",
    "MAX_N = 10e3\n",
    "MAX_MEAN = 10000\n",
    "MAX_SD = 1000\n",
    "\n",
    "for i in range(0,100000):\n",
    "    n = np.random.randint(MIN_N, MAX_N)\n",
    "    mean = np.random.randint(0, MAX_MEAN)/100.0\n",
    "    sd = np.random.randint(0,MAX_SD)/100.0\n",
    "    values = np.random.normal(mean, sd, n)\n",
    "    sampled_data.append(values)\n",
    "    matching_parameters.append([mean, sd, n])\n",
    "    "
   ]
  },
  {
   "cell_type": "code",
   "execution_count": 3,
   "id": "44e7ff48",
   "metadata": {},
   "outputs": [
    {
     "data": {
      "text/plain": [
       "(array([1., 0., 0., ..., 0., 0., 1.]),\n",
       " array([ 54.71165368,  54.72426505,  54.73687642, ..., 118.2981812 ,\n",
       "        118.31079257, 118.32340394]),\n",
       " <BarContainer object of 5044 artists>)"
      ]
     },
     "execution_count": 3,
     "metadata": {},
     "output_type": "execute_result"
    },
    {
     "data": {
      "image/png": "[encoded data removed]",
      "text/plain": [
       "<Figure size 640x480 with 1 Axes>"
      ]
     },
     "metadata": {},
     "output_type": "display_data"
    }
   ],
   "source": [
    "plt.hist(sampled_data[0],matching_parameters[0][2])"
   ]
  },
  {
   "cell_type": "markdown",
   "id": "45e1f787",
   "metadata": {},
   "source": [
    "## Summary Stats"
   ]
  },
  {
   "cell_type": "code",
   "execution_count": 4,
   "id": "f07e3d38",
   "metadata": {},
   "outputs": [],
   "source": [
    "summary_stats = []\n",
    "for i in range(0,len(sampled_data)):\n",
    "    #take elementwise average of each sample distribution\n",
    "    summary = []        # will contain [average, n]\n",
    "    summary.append(np.sum(sampled_data[i])/matching_parameters[i][2])\n",
    "    summary.append(matching_parameters[i][2])\n",
    "    \n",
    "    #predict mean first, remove irrelevant parameters\n",
    "    matching_parameters[i].pop(0)\n",
    "    matching_parameters[i].pop(1)\n",
    "    summary_stats.append(summary)"
   ]
  },
  {
   "cell_type": "markdown",
   "id": "b91a0425",
   "metadata": {},
   "source": [
    "## Split into test & train data"
   ]
  },
  {
   "cell_type": "code",
   "execution_count": 5,
   "id": "9169ed10",
   "metadata": {},
   "outputs": [],
   "source": [
    "x,y = np.array(summary_stats), np.array(matching_parameters)\n",
    "y = y.reshape(-1,1)\n",
    "x_scaler = MinMaxScaler()\n",
    "x_scaled = x_scaler.fit_transform(x)\n",
    "y_scaler = MinMaxScaler()\n",
    "y_scaled = y_scaler.fit_transform(y)"
   ]
  },
  {
   "cell_type": "code",
   "execution_count": 6,
   "id": "72f5adc7-e77d-480b-8a51-e6f0c83e89a3",
   "metadata": {},
   "outputs": [],
   "source": [
    "x_train, x_test, y_train, y_test = train_test_split(x_scaled, y_scaled, test_size=0.33, random_state=42)"
   ]
  },
  {
   "cell_type": "code",
   "execution_count": 7,
   "id": "842a6a34-80b0-438d-9cff-f419177e44da",
   "metadata": {},
   "outputs": [],
   "source": [
    "X_train = torch.from_numpy(x_train.astype(np.float32))\n",
    "Y_train = torch.from_numpy(y_train.astype(np.float32))\n",
    "X_test = torch.from_numpy(x_test.astype(np.float32))\n",
    "Y_test = torch.from_numpy(y_test.astype(np.float32))\n"
   ]
  },
  {
   "cell_type": "code",
   "execution_count": 8,
   "id": "065ef391",
   "metadata": {},
   "outputs": [],
   "source": [
    "class Data(Dataset):\n",
    "  def __init__(self, X: np.ndarray, y: np.ndarray) -> None:\n",
    "    self.X = torch.from_numpy(X.astype(np.float32))\n",
    "    self.y = torch.from_numpy(y.astype(np.float32))\n",
    "    self.len = self.X.shape[0]\n",
    "    \n",
    "  def __getitem__(self, index: int) -> tuple:\n",
    "    return self.X[index], self.y[index]\n",
    "\n",
    "  def __len__(self) -> int:\n",
    "        return self.len"
   ]
  },
  {
   "cell_type": "code",
   "execution_count": 9,
   "id": "c6695bc1",
   "metadata": {},
   "outputs": [],
   "source": [
    "train_data = Data(x_train, y_train)\n",
    "test_data = Data(x_test, y_test)"
   ]
  },
  {
   "cell_type": "code",
   "execution_count": 10,
   "id": "b7c4f0d4",
   "metadata": {},
   "outputs": [
    {
     "name": "stdout",
     "output_type": "stream",
     "text": [
      "(tensor([0.9801, 0.5374]), tensor([0.6476]))\n"
     ]
    }
   ],
   "source": [
    "print(train_data[1])"
   ]
  },
  {
   "cell_type": "code",
   "execution_count": 11,
   "id": "b56a6c51",
   "metadata": {},
   "outputs": [],
   "source": [
    "batch_size = 10\n",
    "num_workers = 4\n",
    "\n",
    "#load data\n",
    "train_loader = DataLoader(train_data, \n",
    "                         batch_size=batch_size, \n",
    "                         shuffle=True, \n",
    "                         num_workers=num_workers)"
   ]
  },
  {
   "cell_type": "markdown",
   "id": "49c91c0b",
   "metadata": {},
   "source": [
    "## Linear Regression"
   ]
  },
  {
   "cell_type": "code",
   "execution_count": 12,
   "id": "b4e12cab",
   "metadata": {},
   "outputs": [],
   "source": [
    "class LinearRegression(nn.Module):\n",
    "  def __init__(self, input_dim: int, \n",
    "               hidden_dim: int, output_dim: int) -> None:\n",
    "    super(LinearRegression, self).__init__()\n",
    "    self.input_to_hidden = nn.Linear(input_dim, hidden_dim)\n",
    "    self.hidden_layer_1 = nn.Linear(hidden_dim, hidden_dim)\n",
    "    self.hidden_layer_2 = nn.Linear(hidden_dim, hidden_dim)\n",
    "    self.hidden_to_output = nn.Linear(hidden_dim, output_dim)\n",
    "  def forward(self, x: torch.Tensor) -> torch.Tensor:\n",
    "    x = self.input_to_hidden(x)\n",
    "    x = self.hidden_layer_1(x)\n",
    "    x = self.hidden_layer_2(x)\n",
    "    x = self.hidden_to_output(x)\n",
    "    return x"
   ]
  },
  {
   "cell_type": "code",
   "execution_count": 13,
   "id": "d8e25f54",
   "metadata": {},
   "outputs": [],
   "source": [
    "input_dim = x_train.shape[1]\n",
    "hidden_dim = 2\n",
    "model = LinearRegression(input_dim, hidden_dim, 1)\n"
   ]
  },
  {
   "cell_type": "code",
   "execution_count": 14,
   "id": "e964a1c9",
   "metadata": {},
   "outputs": [
    {
     "name": "stdout",
     "output_type": "stream",
     "text": [
      "LinearRegression(\n",
      "  (input_to_hidden): Linear(in_features=2, out_features=2, bias=True)\n",
      "  (hidden_layer_1): Linear(in_features=2, out_features=2, bias=True)\n",
      "  (hidden_layer_2): Linear(in_features=2, out_features=2, bias=True)\n",
      "  (hidden_to_output): Linear(in_features=2, out_features=1, bias=True)\n",
      ")\n"
     ]
    }
   ],
   "source": [
    "print(model)"
   ]
  },
  {
   "cell_type": "markdown",
   "id": "7592a773",
   "metadata": {},
   "source": [
    "## Loss function & Optimiser"
   ]
  },
  {
   "cell_type": "code",
   "execution_count": 15,
   "id": "6cbe0fb4",
   "metadata": {},
   "outputs": [],
   "source": [
    "loss_func = nn.MSELoss()\n",
    "optimizer = torch.optim.SGD(model.parameters(), lr=0.1)"
   ]
  },
  {
   "cell_type": "markdown",
   "id": "4035a3b2",
   "metadata": {},
   "source": [
    "## Trainning"
   ]
  },
  {
   "cell_type": "code",
   "execution_count": 27,
   "id": "6e67a1e8",
   "metadata": {},
   "outputs": [
    {
     "name": "stdout",
     "output_type": "stream",
     "text": [
      "epoch 0, loss function 0.08385401219129562\n"
     ]
    }
   ],
   "source": [
    "e = []\n",
    "l = []\n",
    "from torchviz import make_dot\n",
    "for epoch in range(0,500):  \n",
    "    predict_y = model(X_train) \n",
    "    loss = loss_func(predict_y, Y_train) \n",
    "    #make_dot(predict_y).render(\"attached\", format=\"png\")\n",
    "    optimizer.zero_grad() \n",
    "    loss.backward() \n",
    "\n",
    "    optimizer.step() \n",
    "    print('epoch {}, loss function {}'.format(epoch, loss.item()))\n",
    "    e.append(epoch)\n",
    "    l.append(loss.item())\n",
    "    "
   ]
  },
  {
   "cell_type": "code",
   "execution_count": 17,
   "id": "e5d7266d-fa88-4e38-8c7b-a6ab77d4dfcf",
   "metadata": {},
   "outputs": [
    {
     "data": {
      "image/png": "[encoded data removed]",
      "text/plain": [
       "<Figure size 640x480 with 1 Axes>"
      ]
     },
     "metadata": {},
     "output_type": "display_data"
    }
   ],
   "source": [
    "plt.plot(np.array(e), np.array(l))\n",
    "plt.xlabel(\"Epoch\")\n",
    "plt.ylabel(\"MSE Loss\")\n",
    "plt.show()"
   ]
  },
  {
   "cell_type": "code",
   "execution_count": 18,
   "id": "5b25be3c",
   "metadata": {},
   "outputs": [],
   "source": [
    "PATH = './normal_model.pth'\n",
    "torch.save(model.state_dict(), PATH)"
   ]
  },
  {
   "cell_type": "markdown",
   "id": "0465b3ba-6655-42c6-a8fc-812d3c0e1933",
   "metadata": {},
   "source": [
    "## Testing trained model"
   ]
  },
  {
   "cell_type": "code",
   "execution_count": 19,
   "id": "1718df66-5bbe-4bda-89e8-2d2be7305ba2",
   "metadata": {},
   "outputs": [
    {
     "data": {
      "text/plain": [
       "<All keys matched successfully>"
      ]
     },
     "execution_count": 19,
     "metadata": {},
     "output_type": "execute_result"
    }
   ],
   "source": [
    "model = LinearRegression(input_dim, hidden_dim, 1)\n",
    "model.load_state_dict(torch.load(PATH))"
   ]
  },
  {
   "cell_type": "code",
   "execution_count": 20,
   "id": "54ef2bd9-ebbb-4742-87c4-4e91f9cb7f1e",
   "metadata": {},
   "outputs": [],
   "source": [
    "test_loader = DataLoader(test_data, batch_size=batch_size, \n",
    "                        shuffle=True, num_workers=num_workers)"
   ]
  },
  {
   "cell_type": "code",
   "execution_count": 21,
   "id": "41f25f6a-69a5-43f0-9c77-090b3bebc135",
   "metadata": {},
   "outputs": [
    {
     "name": "stdout",
     "output_type": "stream",
     "text": [
      "MSE Loss: 0.00008\n"
     ]
    }
   ],
   "source": [
    "with torch.no_grad():\n",
    "    loss = 0\n",
    "    predictions = model(X_test)\n",
    "    labels = torch.from_numpy(y_scaler.inverse_transform(Y_test))\n",
    "    predictions = torch.from_numpy(y_scaler.inverse_transform(predictions))\n",
    "    loss += nn.functional.mse_loss(predictions, labels)\n",
    "    print(f'MSE Loss: {loss / (i + 1):.5f}')"
   ]
  },
  {
   "cell_type": "code",
   "execution_count": null,
   "id": "089c7949-34d0-4681-be88-9bcd1bfc063f",
   "metadata": {},
   "outputs": [],
   "source": []
  }
 ],
 "metadata": {
  "kernelspec": {
   "display_name": "Python 3 (ipykernel)",
   "language": "python",
   "name": "python3"
  },
  "language_info": {
   "codemirror_mode": {
    "name": "ipython",
    "version": 3
   },
   "file_extension": ".py",
   "mimetype": "text/x-python",
   "name": "python",
   "nbconvert_exporter": "python",
   "pygments_lexer": "ipython3",
   "version": "3.11.5"
  }
 },
 "nbformat": 4,
 "nbformat_minor": 5
}

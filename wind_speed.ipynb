{
 "cells": [
  {
   "cell_type": "markdown",
   "id": "1e98d71c-871a-44be-8276-13f98691cda2",
   "metadata": {},
   "source": [
    "# Estimating Wind Speed Distribution with Weibull distribution"
   ]
  },
  {
   "cell_type": "markdown",
   "id": "934a0172-ac79-4a85-97c6-ffd5a422c11c",
   "metadata": {},
   "source": [
    "https://www.sciencedirect.com/science/article/abs/pii/S0167610599001221#:~:text=The%20Weibull%20distribution%20is%20a,for%20wind%20energy%20calculation%20purposes."
   ]
  },
  {
   "cell_type": "markdown",
   "id": "1c1859be-f0ec-4a22-bd90-4d78538d8e2c",
   "metadata": {},
   "source": [
    "J.V. Seguro, T.W. Lambert,\r\n",
    "Modern estimation of the parameters of the Weibull wind speed distribution for wind energy analysis,\r\n",
    "Journal of Wind Engineering and Industrial Aerodynamics,\r\n",
    "Volume 85, Issue 1,\r\n",
    "2000,\r\n",
    "Pages 75-84,\r\n",
    "ISSN 0167-6105,\r\n",
    "https://doi.org/10.1016/S0167-6105(99)00122-1."
   ]
  },
  {
   "cell_type": "markdown",
   "id": "364a976c-d43c-4b8e-bd7f-95fa1746de57",
   "metadata": {},
   "source": [
    "Data from: https://a2e.energy.gov/ds/pluswind/plant.c0"
   ]
  },
  {
   "cell_type": "code",
   "execution_count": 22,
   "id": "d14fc46e-9ff0-41bd-a137-98c355e8d7ca",
   "metadata": {},
   "outputs": [],
   "source": [
    "import matplotlib.pyplot as plt\n",
    "import torch \n",
    "import sklearn\n",
    "from sklearn.model_selection import train_test_split\n",
    "from sklearn.preprocessing import MinMaxScaler\n",
    "from torch.utils.data import Dataset, DataLoader\n",
    "import torch.nn as nn\n",
    "import csv\n",
    "import numpy as np\n",
    "from numpy import genfromtxt"
   ]
  },
  {
   "cell_type": "code",
   "execution_count": 23,
   "id": "62238fb7-2e6b-431d-9270-091291e43399",
   "metadata": {},
   "outputs": [],
   "source": [
    "\n",
    "my_data_1 = genfromtxt('plant.c0.2021.692.csv', delimiter=',')\n",
    "my_data_2 = genfromtxt('plant.c0.2021.7501.csv', delimiter=',')\n",
    "my_data = np.concatenate((my_data_1, my_data_2), axis=0)"
   ]
  },
  {
   "cell_type": "code",
   "execution_count": 24,
   "id": "538abb26-0b50-433c-a7bc-fda730590d08",
   "metadata": {},
   "outputs": [],
   "source": [
    "wind_speeds = []\n",
    "\n",
    "day = []\n",
    "i = 1\n",
    "while i < len(my_data):\n",
    "    day.append(my_data[i][1])\n",
    "    if i%24 == 0:\n",
    "        wind_speeds.append(day)\n",
    "        day = []\n",
    "    i+=1"
   ]
  },
  {
   "cell_type": "code",
   "execution_count": null,
   "id": "9696ef9a-8676-4ad9-93b3-28b7678ad9b6",
   "metadata": {},
   "outputs": [],
   "source": []
  }
 ],
 "metadata": {
  "kernelspec": {
   "display_name": "Python 3 (ipykernel)",
   "language": "python",
   "name": "python3"
  },
  "language_info": {
   "codemirror_mode": {
    "name": "ipython",
    "version": 3
   },
   "file_extension": ".py",
   "mimetype": "text/x-python",
   "name": "python",
   "nbconvert_exporter": "python",
   "pygments_lexer": "ipython3",
   "version": "3.11.5"
  }
 },
 "nbformat": 4,
 "nbformat_minor": 5
}

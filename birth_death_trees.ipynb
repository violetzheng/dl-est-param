{
 "cells": [
  {
   "cell_type": "markdown",
   "id": "a8008193-4177-4f00-ad53-94ee80b3095b",
   "metadata": {},
   "source": [
    "https://chat.openai.com/share/98bd9fe3-f8ae-4ff4-859a-dd4a7855c429"
   ]
  },
  {
   "cell_type": "code",
   "execution_count": 3,
   "id": "67daff96-1bae-48aa-b251-383f7c6ac434",
   "metadata": {},
   "outputs": [],
   "source": [
    "from dendropy.simulate import treesim\n",
    "import dendropy\n",
    "from Bio import Phylo\n",
    "from io import StringIO\n",
    "import Bio.Phylo.BaseTree\n",
    "import numpy as np\n",
    "import random\n",
    "import matplotlib.pyplot as plt\n",
    "import torch \n",
    "import sklearn\n",
    "from sklearn.model_selection import train_test_split\n",
    "from sklearn.preprocessing import MinMaxScaler\n",
    "from torch.utils.data import Dataset, DataLoader\n",
    "import torch.nn as nn\n",
    "import tensorflow as tf\n",
    "from tensorflow import keras\n",
    "from tensorflow.keras import layers\n",
    "import pickle"
   ]
  },
  {
   "cell_type": "markdown",
   "id": "21f0b5c2-2b84-4b2c-834b-6d4ac306ab7c",
   "metadata": {},
   "source": [
    "# Generate birth death trees"
   ]
  },
  {
   "cell_type": "code",
   "execution_count": 4,
   "id": "9b8eb748-189a-4053-a2cb-ac3ea6db7f8a",
   "metadata": {},
   "outputs": [
    {
     "name": "stdout",
     "output_type": "stream",
     "text": [
      "                                                                  /-------- T2 \n",
      "                                                          /-------+            \n",
      "                                                  /-------+       \\-------- T17\n",
      "                                                  |       |                    \n",
      "                                 /----------------+       \\---------------- T13\n",
      "                                 |                |                            \n",
      "                                 |                \\------------------------ T3 \n",
      "/--------------------------------+                                             \n",
      "|                                |       /--------------------------------- T9 \n",
      "|                                |       |                                     \n",
      "|                                \\-------+                /---------------- T20\n",
      "|                                        |        /-------+                    \n",
      "|                                        |        |       |       /-------- T4 \n",
      "|                                        \\--------+       \\-------+            \n",
      "|                                                 |               \\-------- T12\n",
      "|                                                 |                            \n",
      "|                                                 \\------------------------ T16\n",
      "|                                                                              \n",
      "+                                                                 /-------- T19\n",
      "|               /-------------------------------------------------+            \n",
      "|               |                                                 \\-------- T5 \n",
      "|       /-------+                                                              \n",
      "|       |       |        /------------------------------------------------- T1 \n",
      "|       |       |        |                                                     \n",
      "|       |       \\--------+       /----------------------------------------- T6 \n",
      "|       |                |       |                                             \n",
      "|       |                \\-------+                                /-------- T18\n",
      "|       |                        |       /------------------------+            \n",
      "|       |                        |       |                        \\-------- T7 \n",
      "\\-------+                        \\-------+                                     \n",
      "        |                                |        /------------------------ T15\n",
      "        |                                \\--------+                            \n",
      "        |                                         |       /---------------- T14\n",
      "        |                                         \\-------+                    \n",
      "        |                                                 |       /-------- T8 \n",
      "        |                                                 \\-------+            \n",
      "        |                                                         \\-------- T11\n",
      "        |                                                                      \n",
      "        \\------------------------------------------------------------------ T10\n",
      "                                                                               \n",
      "                                                                               \n"
     ]
    }
   ],
   "source": [
    "#birth_death_tree returns a tree generated under a continuous-time birth-death process, with branch lengths in arbitrary time units.\n",
    "t_cont= treesim.birth_death_tree(birth_rate=2.0, death_rate=1.0,max_time=2)\n",
    "t_cont.print_plot()"
   ]
  },
  {
   "cell_type": "markdown",
   "id": "c606bd72-9fad-425f-bb5b-35f652dec61e",
   "metadata": {},
   "source": [
    "# Convert to Newick string"
   ]
  },
  {
   "cell_type": "code",
   "execution_count": 5,
   "id": "d4a0b005-8605-419d-9863-87593e3fc0a4",
   "metadata": {},
   "outputs": [],
   "source": [
    "newick_str = t_cont.as_string(schema=\"newick\")\n",
    "file = StringIO(newick_str)\n",
    "bio_phylo_tree = Phylo.read(file, \"newick\")"
   ]
  },
  {
   "cell_type": "markdown",
   "id": "c0945abd-8e18-4c69-b997-21fd66c48315",
   "metadata": {},
   "source": [
    "# Get node living data"
   ]
  },
  {
   "cell_type": "code",
   "execution_count": 6,
   "id": "2125445e-c8a7-4708-a704-70ed16b171d7",
   "metadata": {},
   "outputs": [],
   "source": [
    "#FIX NAMING\n",
    "def get_living_times(tree, node, name_num=0, Dist = {}):\n",
    "    if node == tree.root:\n",
    "        node.name = \"C\"+str(name_num)\n",
    "        Dist[node.name] = [0,0]\n",
    "    if len(node.clades)!=0:\n",
    "        for child in node.clades:\n",
    "            if (child.name==None):\n",
    "                name_num += 1\n",
    "                child.name = \"C\"+ str(name_num)\n",
    "            dist = Dist[node.name][1]\n",
    "            Dist[child.name] = [dist,dist + child.branch_length]\n",
    "            get_living_times(tree, child, name_num+1)\n",
    "    return Dist"
   ]
  },
  {
   "cell_type": "code",
   "execution_count": 7,
   "id": "037f5363-fd6b-4b20-93ac-3c6d5f348a29",
   "metadata": {},
   "outputs": [
    {
     "name": "stdout",
     "output_type": "stream",
     "text": [
      "{'C0': [0, 0], 'C1': [0, 0.7820556206902426], 'C3': [0.7820556206902426, 1.670315706026682], 'C5': [1.670315706026682, 1.7618100683816678], 'C7': [1.24366097796669, 1.4094862188211241], 'T2': [1.9015210951304968, 1.9956857725615997], 'T17': [1.9015210951304968, 1.9956857725615997], 'T13': [1.7618100683816678, 1.9956857725615997], 'T3': [1.670315706026682, 1.9956857725615997], 'C4': [1.1399570838330642, 1.24366097796669], 'T9': [0.9386293334290249, 1.9956857725615995], 'C6': [1.24366097796669, 1.7870045328983242], 'C8': [1.6144035041533145, 1.6373466163584511], 'T20': [1.6373466163584511, 1.9956857725615995], 'C10': [1.6373466163584511, 1.9582478770708742], 'T4': [1.9582478770708742, 1.9956857725615995], 'T12': [1.9582478770708742, 1.9956857725615995], 'T16': [1.6144035041533145, 1.9956857725615995], 'C2': [0, 1.1399570838330642], 'T19': [1.7870045328983242, 1.9956857725615997], 'T5': [1.7870045328983242, 1.9956857725615997], 'T1': [1.4094862188211241, 1.9956857725616], 'C9': [1.4094862188211241, 1.4180035590996491], 'T6': [1.4180035590996491, 1.9956857725616], 'C11': [1.4180035590996491, 1.8161061234562277], 'C13': [1.8161061234562277, 1.9626521580870926], 'T18': [1.9626521580870926, 1.9956857725616], 'T7': [1.9626521580870926, 1.9956857725616], 'C14': [1.8161061234562277, 1.898181028067932], 'T15': [1.898181028067932, 1.9956857725616], 'C16': [1.898181028067932, 1.9049875465661432], 'T14': [1.9049875465661432, 1.9956857725615997], 'C18': [1.9049875465661432, 1.9334319615412643], 'T8': [1.9334319615412643, 1.9956857725615997], 'T11': [1.9334319615412643, 1.9956857725615997], 'T10': [1.1399570838330642, 1.9956857725615995]}\n"
     ]
    }
   ],
   "source": [
    "print(get_living_times(bio_phylo_tree, bio_phylo_tree.root))"
   ]
  },
  {
   "cell_type": "code",
   "execution_count": 8,
   "id": "81878af3-5707-4a7f-95c6-cb89a2d1bd89",
   "metadata": {},
   "outputs": [
    {
     "data": {
      "image/png": "[encoded data removed]",
      "text/plain": [
       "<Figure size 640x480 with 1 Axes>"
      ]
     },
     "metadata": {},
     "output_type": "display_data"
    }
   ],
   "source": [
    "Phylo.draw(bio_phylo_tree)\n"
   ]
  },
  {
   "cell_type": "markdown",
   "id": "d8d1ea62-c476-47ba-8d5a-2a71ef8db97f",
   "metadata": {},
   "source": [
    "# Collapse Tree - Trial run"
   ]
  },
  {
   "cell_type": "code",
   "execution_count": 9,
   "id": "415f8e8b-2ca1-4dfa-8435-62fe4d8df12b",
   "metadata": {},
   "outputs": [],
   "source": [
    "#just using arbitrary bias and weights rn for testing\n",
    "bias = np.array([[1],[1]])\n",
    "weights = np.array([[0.5,0.1, 0.2, 0.2],[0.3,0.2, 0.1, 0.6]])\n",
    "living_dict = get_living_times(bio_phylo_tree, bio_phylo_tree.root)\n",
    "\n",
    "#turn dictionary of birth & death of nodes in list format into np vector format\n",
    "def vectorize_dict(D):\n",
    "    for node, [birth, death] in D.items():\n",
    "        D[node] = np.array([birth, death]).reshape(2, 1)\n",
    "    return D\n",
    "\n",
    "living_dict = vectorize_dict(living_dict)"
   ]
  },
  {
   "cell_type": "code",
   "execution_count": 10,
   "id": "e38d6698-078a-412b-b5c2-9a733494a4aa",
   "metadata": {},
   "outputs": [],
   "source": [
    "# collapse all living times to 1 vector\n",
    "def collapse_tree(living_dict, tree, node):\n",
    "    if len(node.clades)==0:\n",
    "        #leaf node\n",
    "        return living_dict[node.name]\n",
    "    else:\n",
    "        result = np.concatenate((collapse_tree(living_dict, tree, node.clades[0]), collapse_tree(living_dict, tree, node.clades[1])), axis=0)\n",
    "        return np.add(np.matmul(weights,result), bias)"
   ]
  },
  {
   "cell_type": "code",
   "execution_count": 11,
   "id": "400d46b1-6f99-40bb-9355-a2e42347cd62",
   "metadata": {},
   "outputs": [
    {
     "name": "stdout",
     "output_type": "stream",
     "text": [
      "[[5.99219018]\n",
      " [7.14387336]]\n"
     ]
    }
   ],
   "source": [
    "print(collapse_tree(living_dict, bio_phylo_tree, bio_phylo_tree.root))"
   ]
  },
  {
   "cell_type": "markdown",
   "id": "4bc28e7a-d5e8-49db-860b-2531d04c2505",
   "metadata": {},
   "source": [
    "# Generate tree dataset"
   ]
  },
  {
   "cell_type": "code",
   "execution_count": 19,
   "id": "0453d5b9-afff-4804-b1da-862bad48ec3a",
   "metadata": {},
   "outputs": [
    {
     "name": "stdout",
     "output_type": "stream",
     "text": [
      "0\n",
      "50\n",
      "100\n",
      "150\n",
      "200\n",
      "250\n",
      "300\n",
      "350\n",
      "400\n",
      "450\n",
      "500\n",
      "550\n",
      "600\n",
      "650\n",
      "700\n",
      "750\n",
      "800\n",
      "850\n",
      "900\n",
      "950\n"
     ]
    }
   ],
   "source": [
    "simulated_trees = []\n",
    "matching_parameters = []\n",
    "\n",
    "#WRITE THESE TO FILE PICKLE\n",
    "for i in range(0,1000):\n",
    "    #rate_birth = random.random()\n",
    "    rate_death = random.random()+1\n",
    "    R = random.uniform(1,2)\n",
    "    rate_birth = rate_death * R\n",
    "\n",
    "    #This somehow only works if birth_rate=1.0??? CHECK THIS\n",
    "    #print(str(rate_birth)+\" \" + str(rate_death) + \" \")\n",
    "    t_cont= treesim.birth_death_tree(birth_rate=rate_birth, death_rate=rate_death, max_time=4)\n",
    "    simulated_trees.append(t_cont)\n",
    "    matching_parameters.append([rate_birth,rate_death])\n",
    "    if (i%50==0):\n",
    "        print(i)\n",
    "\n",
    "file_tree = open('tree.pickle', 'wb')\n",
    "file_param = open('param.pickle','wb')\n",
    "pickle.dump(simulated_trees,file_tree)\n",
    "pickle.dump(matching_parameters,file_param)\n",
    "file_tree.close()\n",
    "file_param.close()"
   ]
  },
  {
   "cell_type": "code",
   "execution_count": 12,
   "id": "8cc389d3-f1e8-41ee-adea-1e7a0c2cfb4a",
   "metadata": {},
   "outputs": [],
   "source": [
    "bio_phylo_simulated_trees = []\n",
    "\n",
    "with open('tree.pickle','rb') as f:\n",
    "    get_pickled_trees = pickle.load(f)\n",
    "\n",
    "with open('param.pickle','rb') as f:\n",
    "    get_pickled_param = pickle.load(f)\n",
    "\n",
    "#convert newick trees into bio phylo tree objects\n",
    "for tree in get_pickled_trees:\n",
    "    newick_str = tree.as_string(schema=\"newick\")\n",
    "    file = StringIO(newick_str)\n",
    "    bio_phylo_tree = Phylo.read(file, \"newick\")\n",
    "    bio_phylo_simulated_trees.append(bio_phylo_tree)\n",
    "    "
   ]
  },
  {
   "cell_type": "code",
   "execution_count": 13,
   "id": "3c063542-1f1d-40c8-aad3-e640d813751d",
   "metadata": {},
   "outputs": [
    {
     "data": {
      "text/plain": [
       "tensor([[2.1398, 1.8580],\n",
       "        [2.5976, 1.7687],\n",
       "        [2.4791, 1.4463],\n",
       "        [3.1890, 1.6276],\n",
       "        [1.5927, 1.5088],\n",
       "        [2.4820, 1.3908],\n",
       "        [1.4752, 1.0059],\n",
       "        [3.0634, 1.6159],\n",
       "        [2.5343, 1.3521],\n",
       "        [1.8768, 1.4296],\n",
       "        [2.0851, 1.6186],\n",
       "        [3.1505, 1.9288],\n",
       "        [2.1466, 1.9896],\n",
       "        [1.7302, 1.4661],\n",
       "        [1.6685, 1.4186],\n",
       "        [2.1798, 1.6847],\n",
       "        [1.5249, 1.1760],\n",
       "        [2.1057, 1.5650],\n",
       "        [1.9877, 1.3906],\n",
       "        [2.2601, 1.1347],\n",
       "        [2.4058, 1.4805],\n",
       "        [1.9562, 1.4435],\n",
       "        [1.9767, 1.0788],\n",
       "        [2.8597, 1.8478],\n",
       "        [2.2104, 1.1724],\n",
       "        [2.2742, 1.4091],\n",
       "        [1.9788, 1.3961],\n",
       "        [3.2676, 1.6468],\n",
       "        [1.8738, 1.5541],\n",
       "        [2.0931, 1.3882],\n",
       "        [1.6045, 1.3206],\n",
       "        [1.8623, 1.4007],\n",
       "        [2.2992, 1.7066],\n",
       "        [1.5026, 1.2664],\n",
       "        [2.6371, 1.8119],\n",
       "        [2.1169, 1.0873],\n",
       "        [1.1580, 1.0481],\n",
       "        [2.3724, 1.6565],\n",
       "        [1.2471, 1.1954],\n",
       "        [2.0339, 1.1221],\n",
       "        [1.9001, 1.8337],\n",
       "        [2.3900, 1.5535],\n",
       "        [3.2027, 1.8563],\n",
       "        [1.3995, 1.2550],\n",
       "        [1.8530, 1.3621],\n",
       "        [1.8758, 1.1344],\n",
       "        [3.1032, 1.7146],\n",
       "        [1.6974, 1.2706],\n",
       "        [1.7060, 1.2837],\n",
       "        [1.4368, 1.0000],\n",
       "        [2.9042, 1.4809],\n",
       "        [2.1970, 1.1711],\n",
       "        [1.8430, 1.2841],\n",
       "        [1.7632, 1.0041],\n",
       "        [3.0124, 1.7302],\n",
       "        [1.4191, 1.3988],\n",
       "        [2.0751, 1.0397],\n",
       "        [2.2681, 1.3546],\n",
       "        [2.1170, 1.8447],\n",
       "        [2.2093, 1.5397],\n",
       "        [3.3425, 1.7591],\n",
       "        [2.0551, 1.4031],\n",
       "        [3.2038, 1.6246],\n",
       "        [1.1347, 1.0648],\n",
       "        [1.6746, 1.6299],\n",
       "        [2.7540, 1.6251],\n",
       "        [2.6474, 1.6770],\n",
       "        [2.4465, 1.4019],\n",
       "        [2.0298, 1.0857],\n",
       "        [3.0487, 1.5335],\n",
       "        [2.2459, 1.1507],\n",
       "        [1.7259, 1.4757],\n",
       "        [1.9181, 1.0490],\n",
       "        [2.9191, 1.9033],\n",
       "        [2.1297, 1.8145],\n",
       "        [2.6020, 1.7994],\n",
       "        [2.0520, 1.7250],\n",
       "        [1.7778, 1.6218],\n",
       "        [2.9508, 1.6148],\n",
       "        [1.3524, 1.0408],\n",
       "        [1.1626, 1.0306],\n",
       "        [1.5441, 1.0839],\n",
       "        [1.2202, 1.1127],\n",
       "        [1.4854, 1.1617],\n",
       "        [1.1740, 1.1402],\n",
       "        [2.5061, 1.2922],\n",
       "        [3.5354, 1.9300],\n",
       "        [1.6135, 1.2877],\n",
       "        [2.8860, 1.5263],\n",
       "        [2.2700, 1.7400],\n",
       "        [1.6711, 1.4050],\n",
       "        [3.0292, 1.8754],\n",
       "        [1.5001, 1.4458],\n",
       "        [2.7488, 1.5317],\n",
       "        [1.5751, 1.0283],\n",
       "        [2.7046, 1.7783],\n",
       "        [1.1670, 1.1225],\n",
       "        [3.1494, 1.7567],\n",
       "        [3.4249, 1.9741],\n",
       "        [2.5457, 1.7824],\n",
       "        [3.2903, 1.9416],\n",
       "        [1.6069, 1.5216],\n",
       "        [1.8286, 1.6537],\n",
       "        [3.4296, 1.8699],\n",
       "        [2.0631, 1.5624],\n",
       "        [2.1823, 1.8762],\n",
       "        [1.7735, 1.0201],\n",
       "        [1.1536, 1.0353],\n",
       "        [2.9680, 1.8078],\n",
       "        [1.6013, 1.1144],\n",
       "        [2.8614, 1.7801],\n",
       "        [3.3539, 1.9903],\n",
       "        [1.5671, 1.4802],\n",
       "        [2.9062, 1.8918],\n",
       "        [2.3321, 1.3740],\n",
       "        [1.9246, 1.9091],\n",
       "        [1.3382, 1.2027],\n",
       "        [1.9764, 1.1898],\n",
       "        [2.3862, 1.7791],\n",
       "        [2.6435, 1.9711],\n",
       "        [1.2197, 1.1007],\n",
       "        [2.5310, 1.5938],\n",
       "        [1.6974, 1.1023],\n",
       "        [2.2038, 1.9837],\n",
       "        [1.8184, 1.6949],\n",
       "        [1.5159, 1.3612],\n",
       "        [2.2829, 1.6743],\n",
       "        [2.5400, 1.8643],\n",
       "        [2.3817, 1.8678],\n",
       "        [3.2264, 1.6359],\n",
       "        [2.1755, 1.6772],\n",
       "        [1.0539, 1.0289],\n",
       "        [1.9503, 1.6358],\n",
       "        [2.0914, 1.5970],\n",
       "        [1.7993, 1.7640],\n",
       "        [1.2888, 1.0743],\n",
       "        [1.6545, 1.5905],\n",
       "        [1.9974, 1.2466],\n",
       "        [3.0936, 1.6662],\n",
       "        [1.4204, 1.1554],\n",
       "        [3.1517, 1.9659],\n",
       "        [1.5458, 1.3481],\n",
       "        [1.4508, 1.1396],\n",
       "        [3.0224, 1.9672],\n",
       "        [3.0280, 1.5703],\n",
       "        [2.0417, 1.8547],\n",
       "        [2.4748, 1.4498],\n",
       "        [2.6021, 1.6429],\n",
       "        [2.5030, 1.8702],\n",
       "        [3.1364, 1.8525],\n",
       "        [2.9312, 1.7662],\n",
       "        [2.7348, 1.5246],\n",
       "        [2.6833, 1.7156],\n",
       "        [2.8059, 1.9144],\n",
       "        [2.1922, 1.1500],\n",
       "        [2.5110, 1.5564],\n",
       "        [2.6009, 1.4555],\n",
       "        [2.8393, 1.8473],\n",
       "        [1.4772, 1.1605],\n",
       "        [1.5826, 1.4548],\n",
       "        [3.5161, 1.8037],\n",
       "        [2.8194, 1.7276],\n",
       "        [2.8043, 1.9081],\n",
       "        [1.4770, 1.1720],\n",
       "        [3.8723, 1.9451],\n",
       "        [2.4042, 1.5368],\n",
       "        [1.8312, 1.0611],\n",
       "        [1.3672, 1.2058],\n",
       "        [2.6892, 1.4511],\n",
       "        [2.2283, 1.2307],\n",
       "        [2.5297, 1.6410],\n",
       "        [2.2882, 1.1831],\n",
       "        [3.8068, 1.9765],\n",
       "        [1.9239, 1.3819],\n",
       "        [2.2047, 1.2914],\n",
       "        [2.0383, 1.0574],\n",
       "        [1.8938, 1.2589],\n",
       "        [1.8818, 1.1000],\n",
       "        [1.4440, 1.1731],\n",
       "        [1.8053, 1.4502],\n",
       "        [2.1790, 1.7401],\n",
       "        [2.0657, 1.1965],\n",
       "        [2.6010, 1.7801],\n",
       "        [1.8269, 1.2790],\n",
       "        [2.3402, 1.2143],\n",
       "        [3.4394, 1.7329],\n",
       "        [2.1611, 1.4457],\n",
       "        [2.2757, 1.7966],\n",
       "        [1.7515, 1.2298],\n",
       "        [3.3927, 1.7860],\n",
       "        [2.4054, 1.5203],\n",
       "        [1.9567, 1.5394],\n",
       "        [2.1113, 1.1447],\n",
       "        [1.8233, 1.0677],\n",
       "        [2.3978, 1.8821],\n",
       "        [2.4537, 1.9557],\n",
       "        [3.1488, 1.6798],\n",
       "        [1.3029, 1.0831],\n",
       "        [2.0484, 1.2208],\n",
       "        [1.6688, 1.5843],\n",
       "        [2.4034, 1.4893],\n",
       "        [1.7691, 1.1644],\n",
       "        [1.3497, 1.1376],\n",
       "        [1.9734, 1.0810],\n",
       "        [3.0679, 1.6966],\n",
       "        [2.8413, 1.9395],\n",
       "        [2.3105, 1.1963],\n",
       "        [3.0838, 1.9585],\n",
       "        [2.9899, 1.8232],\n",
       "        [2.9949, 1.8530],\n",
       "        [3.0513, 1.8636],\n",
       "        [1.3203, 1.0486],\n",
       "        [1.3516, 1.1633],\n",
       "        [2.8539, 1.6503],\n",
       "        [2.5125, 1.6626],\n",
       "        [1.8007, 1.2890],\n",
       "        [1.9021, 1.6606],\n",
       "        [2.6371, 1.5816],\n",
       "        [2.2856, 1.8968],\n",
       "        [2.9657, 1.5024],\n",
       "        [3.3554, 1.8970],\n",
       "        [2.4657, 1.4760],\n",
       "        [2.3272, 1.3095],\n",
       "        [2.4308, 1.3100],\n",
       "        [2.3030, 1.4605],\n",
       "        [1.9900, 1.8905],\n",
       "        [2.6728, 1.4590],\n",
       "        [2.3734, 1.2122],\n",
       "        [3.0699, 1.8181],\n",
       "        [3.1085, 1.7316],\n",
       "        [2.6104, 1.8434],\n",
       "        [3.0847, 1.8350],\n",
       "        [2.5212, 1.7961],\n",
       "        [2.3230, 1.3114],\n",
       "        [1.9326, 1.7545],\n",
       "        [1.2946, 1.0723],\n",
       "        [2.5371, 1.7089],\n",
       "        [2.1378, 1.1022],\n",
       "        [2.7409, 1.7469],\n",
       "        [2.9458, 1.6166],\n",
       "        [1.7568, 1.1568],\n",
       "        [2.1874, 1.2788],\n",
       "        [2.7108, 1.7428],\n",
       "        [2.5585, 1.3083],\n",
       "        [1.5855, 1.4640],\n",
       "        [1.9291, 1.2145],\n",
       "        [2.9153, 1.8098],\n",
       "        [3.2104, 1.7324],\n",
       "        [1.7434, 1.1657],\n",
       "        [2.0273, 1.5342],\n",
       "        [2.0422, 1.9274],\n",
       "        [2.0193, 1.7729],\n",
       "        [1.8965, 1.2467],\n",
       "        [1.7590, 1.5521],\n",
       "        [2.0261, 1.0736],\n",
       "        [1.3780, 1.0464],\n",
       "        [1.4997, 1.2807],\n",
       "        [1.6217, 1.5541],\n",
       "        [1.6609, 1.1156],\n",
       "        [2.2925, 1.3184],\n",
       "        [2.4810, 1.3511],\n",
       "        [1.8472, 1.6123],\n",
       "        [3.4658, 1.7556],\n",
       "        [2.4405, 1.2363],\n",
       "        [2.0507, 1.0455],\n",
       "        [3.1907, 1.6577],\n",
       "        [2.9065, 1.5434],\n",
       "        [2.7173, 1.6519],\n",
       "        [2.1303, 1.9478],\n",
       "        [1.8614, 1.2204],\n",
       "        [2.8160, 1.8333],\n",
       "        [2.1065, 1.3921],\n",
       "        [1.9648, 1.0743],\n",
       "        [2.5751, 1.5785],\n",
       "        [2.2598, 1.6258],\n",
       "        [3.0081, 1.9061],\n",
       "        [2.2219, 1.7450],\n",
       "        [2.4652, 1.7027],\n",
       "        [2.1008, 1.2684],\n",
       "        [2.6209, 1.5999],\n",
       "        [2.1971, 1.7626],\n",
       "        [1.5817, 1.4710],\n",
       "        [2.8784, 1.5555],\n",
       "        [1.9786, 1.1189],\n",
       "        [1.7340, 1.5799],\n",
       "        [1.8002, 1.0038],\n",
       "        [1.4790, 1.3147],\n",
       "        [3.0758, 1.7256],\n",
       "        [1.3865, 1.2854],\n",
       "        [3.7365, 1.8787],\n",
       "        [2.9698, 1.8770],\n",
       "        [3.0502, 1.5498],\n",
       "        [2.7262, 1.7787],\n",
       "        [2.0698, 1.9265],\n",
       "        [2.8703, 1.9758],\n",
       "        [2.0329, 1.0492],\n",
       "        [3.3463, 1.8855],\n",
       "        [2.7600, 1.7450],\n",
       "        [1.6238, 1.3517],\n",
       "        [2.3532, 1.9481],\n",
       "        [3.2703, 1.9274],\n",
       "        [1.4012, 1.3982],\n",
       "        [2.4424, 1.6511],\n",
       "        [2.3387, 1.7230],\n",
       "        [2.8565, 1.6957],\n",
       "        [2.0027, 1.5658],\n",
       "        [2.9557, 1.7938],\n",
       "        [3.7171, 1.9045],\n",
       "        [2.7752, 1.8334],\n",
       "        [2.2808, 1.8814],\n",
       "        [3.4199, 1.9192],\n",
       "        [2.7620, 1.3881],\n",
       "        [1.6617, 1.0807],\n",
       "        [2.5442, 1.6883],\n",
       "        [2.7115, 1.8875],\n",
       "        [2.7149, 1.8278],\n",
       "        [1.9030, 1.5990],\n",
       "        [1.8707, 1.8430],\n",
       "        [2.0674, 1.8079],\n",
       "        [3.3277, 1.8209],\n",
       "        [2.6423, 1.5608],\n",
       "        [1.7165, 1.3349],\n",
       "        [2.0364, 1.9926],\n",
       "        [1.9118, 1.3833],\n",
       "        [2.8231, 1.8727],\n",
       "        [2.2597, 1.6736],\n",
       "        [2.6728, 1.5980],\n",
       "        [2.5460, 1.2828],\n",
       "        [1.3292, 1.0963],\n",
       "        [2.8590, 1.5103]], requires_grad=True)"
      ]
     },
     "execution_count": 13,
     "metadata": {},
     "output_type": "execute_result"
    }
   ],
   "source": [
    "x,y = bio_phylo_simulated_trees, get_pickled_param\n",
    "\n",
    "y=np.array(y)\n",
    "x_train, x_test, y_train, y_test = train_test_split(x, y, test_size=0.33, random_state=5)\n",
    "y_train = torch.from_numpy(y_train.astype(np.float32))\n",
    "y_test = torch.from_numpy(y_test.astype(np.float32))\n",
    "y_train.requires_grad_(True)\n",
    "y_test.requires_grad_(True)"
   ]
  },
  {
   "cell_type": "markdown",
   "id": "d8bab931-4f6b-4a65-a056-7a4cb1c676dc",
   "metadata": {},
   "source": [
    "# Neural network"
   ]
  },
  {
   "cell_type": "code",
   "execution_count": 103,
   "id": "1a4df40c-cc94-480c-957d-41fef86b2e3f",
   "metadata": {},
   "outputs": [],
   "source": [
    "PADDED_DIM=4\n",
    "\n",
    "class treeProcessor(nn.Module):\n",
    "    def __init__(self, input_dim, hidden_dim, output_dim):\n",
    "        super(treeProcessor, self).__init__()\n",
    "        self.linear = nn.Linear(input_dim, output_dim)\n",
    "        self.sigmoid = nn.Sigmoid()\n",
    "\n",
    "    def forward(self, x, living_dict):\n",
    "        survival = living_dict[x.name]\n",
    "        temp = torch.tensor(survival, dtype=torch.float32)\n",
    "        temp = temp.reshape(2, 1)\n",
    "        \n",
    "        if len(x.clades) == 0:\n",
    "            # Terminal node\n",
    "            #PAD WITH ZEROES, CHANGE OUTPUT_DIM = k, INPUT_DIM = k\n",
    "            return (temp.detach().clone()) #shape k \n",
    "\n",
    "        L_collapsed = self.forward(x.clades[0], living_dict)\n",
    "        L_collapsed = L_collapsed.reshape(2, 1)\n",
    "        \n",
    "        R_collapsed = self.forward(x.clades[1], living_dict)\n",
    "        R_collapsed = R_collapsed.reshape(2, 1)\n",
    "\n",
    "        #import pdb; pdb.set_trace()\n",
    "        result = torch.cat((temp, L_collapsed, R_collapsed), dim=0).squeeze(1)\n",
    "        #result = result.reshape(6, 1)\n",
    "\n",
    "        return (self.sigmoid(self.linear(result)))  #shape k"
   ]
  },
  {
   "cell_type": "code",
   "execution_count": 104,
   "id": "017ea13c-b54d-40cc-89c6-590422953b9d",
   "metadata": {},
   "outputs": [],
   "source": [
    "hi = treeProcessor(6,10,2)\n"
   ]
  },
  {
   "cell_type": "code",
   "execution_count": 105,
   "id": "9289a458-4058-4b0d-9ffd-b705f006ae66",
   "metadata": {},
   "outputs": [
    {
     "data": {
      "text/plain": [
       "tensor([0.4328, 0.5164], grad_fn=<SigmoidBackward0>)"
      ]
     },
     "execution_count": 105,
     "metadata": {},
     "output_type": "execute_result"
    }
   ],
   "source": [
    "d = vectorize_dict(get_living_times(bio_phylo_tree, bio_phylo_tree.root))\n",
    "hi(bio_phylo_tree.root, d)"
   ]
  },
  {
   "cell_type": "code",
   "execution_count": 183,
   "id": "cdc8f7db-083d-4f02-8bbd-65a3545c4b4b",
   "metadata": {},
   "outputs": [],
   "source": [
    "class myModel(nn.Module):\n",
    "    def __init__(self, input_dim: int, \n",
    "               hidden_dim: int, output_dim: int):\n",
    "        super(myModel,self).__init__()\n",
    "        self.recursive_tree_processor = treeProcessor(6, 10, 2)\n",
    "        self.myModel=nn.Sequential(\n",
    "            nn.Linear(input_dim, hidden_dim),\n",
    "            nn.Sigmoid(),\n",
    "            nn.Linear(hidden_dim, hidden_dim),\n",
    "            nn.Sigmoid(),\n",
    "            nn.Linear(hidden_dim, output_dim)\n",
    "        )\n",
    "    def forward(self,tree):\n",
    "        dict = vectorize_dict(get_living_times(tree, tree.root))\n",
    "        x=self.myModel((self.recursive_tree_processor(tree.root,dict)).reshape(1,2))\n",
    "        #x.requires_grad_(True)\n",
    "        return x"
   ]
  },
  {
   "cell_type": "code",
   "execution_count": 184,
   "id": "3841b28d-5e76-47e8-bf7f-37c250a064d6",
   "metadata": {},
   "outputs": [
    {
     "name": "stdout",
     "output_type": "stream",
     "text": [
      "myModel(\n",
      "  (recursive_tree_processor): treeProcessor(\n",
      "    (linear): Linear(in_features=6, out_features=2, bias=True)\n",
      "    (sigmoid): Sigmoid()\n",
      "  )\n",
      "  (myModel): Sequential(\n",
      "    (0): Linear(in_features=2, out_features=10, bias=True)\n",
      "    (1): Sigmoid()\n",
      "    (2): Linear(in_features=10, out_features=10, bias=True)\n",
      "    (3): Sigmoid()\n",
      "    (4): Linear(in_features=10, out_features=2, bias=True)\n",
      "  )\n",
      ")\n"
     ]
    }
   ],
   "source": [
    "input_dim = 2\n",
    "hidden_dim = 10\n",
    "batch_size = 4\n",
    "num_workers = 4\n",
    "output_dim = 2\n",
    "\n",
    "model = myModel(input_dim, hidden_dim, output_dim)\n",
    "print(model)"
   ]
  },
  {
   "cell_type": "code",
   "execution_count": 185,
   "id": "1b844c6e-5992-46a8-a04f-7266e70ca68b",
   "metadata": {},
   "outputs": [],
   "source": [
    "loss_func = nn.MSELoss()\n",
    "optimizer = torch.optim.SGD(model.parameters(), lr=0.1) #TOO HIGH LEARNING RATE"
   ]
  },
  {
   "cell_type": "code",
   "execution_count": 186,
   "id": "884b21f6-7b70-444d-af71-0612a9defebe",
   "metadata": {},
   "outputs": [
    {
     "name": "stdout",
     "output_type": "stream",
     "text": [
      "tensor([[1.6366, 1.1588],\n",
      "        [1.9863, 1.2069],\n",
      "        [2.2120, 1.8599],\n",
      "        ...,\n",
      "        [2.2020, 1.8840],\n",
      "        [2.9700, 1.7252],\n",
      "        [2.6091, 1.9556]], requires_grad=True)\n"
     ]
    }
   ],
   "source": [
    "print(y_train)"
   ]
  },
  {
   "cell_type": "code",
   "execution_count": 187,
   "id": "49d4e874-0d01-4e22-af82-140692c33c16",
   "metadata": {},
   "outputs": [],
   "source": [
    "e = []\n",
    "l = []"
   ]
  },
  {
   "cell_type": "code",
   "execution_count": 188,
   "id": "c4e8f927-0a5b-44fe-b527-bb9d1302c917",
   "metadata": {},
   "outputs": [
    {
     "name": "stdout",
     "output_type": "stream",
     "text": [
      "tensor([[ 0.4647, -0.8000]], grad_fn=<AddmmBackward0>)\n"
     ]
    }
   ],
   "source": [
    "print(model(bio_phylo_tree))"
   ]
  },
  {
   "cell_type": "code",
   "execution_count": 195,
   "id": "694da506-2ce2-40be-af01-33191cfaa471",
   "metadata": {
    "scrolled": true
   },
   "outputs": [
    {
     "name": "stdout",
     "output_type": "stream",
     "text": [
      "Epoch 100, Average Loss: 0.13248726559338966\n",
      "Epoch 101, Average Loss: 0.14652131782026281\n",
      "Epoch 102, Average Loss: 0.14528306001117938\n",
      "Epoch 103, Average Loss: 0.15879855287250882\n",
      "Epoch 104, Average Loss: 0.14385861186979604\n",
      "Epoch 105, Average Loss: 0.15285039900405917\n",
      "Epoch 106, Average Loss: 0.15355272290597446\n",
      "Epoch 107, Average Loss: 0.15420547282208563\n",
      "Epoch 108, Average Loss: 0.12206465655958641\n",
      "Epoch 109, Average Loss: 0.14189377750570664\n",
      "Epoch 110, Average Loss: 0.15241766977167354\n",
      "Epoch 111, Average Loss: 0.1392946314557504\n",
      "Epoch 112, Average Loss: 0.14170953047725915\n",
      "Epoch 113, Average Loss: 0.14596249335905911\n",
      "Epoch 114, Average Loss: 0.14227501094973743\n",
      "Epoch 115, Average Loss: 0.15374191191374087\n",
      "Epoch 116, Average Loss: 0.15549627372051533\n",
      "Epoch 117, Average Loss: 0.1399249122860327\n",
      "Epoch 118, Average Loss: 0.14872939748413264\n",
      "Epoch 119, Average Loss: 0.14143151874243934\n",
      "Epoch 120, Average Loss: 0.14108384180094685\n",
      "Epoch 121, Average Loss: 0.14559718219019516\n",
      "Epoch 122, Average Loss: 0.1451454621267074\n",
      "Epoch 123, Average Loss: 0.14047225427799928\n",
      "Epoch 124, Average Loss: 0.15570327294851416\n",
      "Epoch 125, Average Loss: 0.14758549486452005\n",
      "Epoch 126, Average Loss: 0.15043978951732392\n",
      "Epoch 127, Average Loss: 0.13538042958565194\n",
      "Epoch 128, Average Loss: 0.1415833427108574\n",
      "Epoch 129, Average Loss: 0.15297553038516484\n",
      "Epoch 130, Average Loss: 0.15012376945328537\n",
      "Epoch 131, Average Loss: 0.14033505757280224\n",
      "Epoch 132, Average Loss: 0.142720478131269\n",
      "Epoch 133, Average Loss: 0.14961053687755935\n",
      "Epoch 134, Average Loss: 0.14853793168457838\n",
      "Epoch 135, Average Loss: 0.13598842130011338\n",
      "Epoch 136, Average Loss: 0.16251151075433773\n",
      "Epoch 137, Average Loss: 0.1441229691056521\n",
      "Epoch 138, Average Loss: 0.1333092441426159\n",
      "Epoch 139, Average Loss: 0.14466938934794543\n",
      "Epoch 140, Average Loss: 0.14399879007407382\n",
      "Epoch 141, Average Loss: 0.15068553727504158\n",
      "Epoch 142, Average Loss: 0.1378404810363531\n",
      "Epoch 143, Average Loss: 0.14471447042610025\n",
      "Epoch 144, Average Loss: 0.14938993857567087\n",
      "Epoch 145, Average Loss: 0.14798631525699243\n",
      "Epoch 146, Average Loss: 0.15340339072915699\n",
      "Epoch 147, Average Loss: 0.1443844698313033\n",
      "Epoch 148, Average Loss: 0.13867606732876164\n",
      "Epoch 149, Average Loss: 0.1558078744371401\n",
      "Epoch 150, Average Loss: 0.15257348714999286\n",
      "Epoch 151, Average Loss: 0.1596371662981961\n",
      "Epoch 152, Average Loss: 0.13800655228733918\n",
      "Epoch 153, Average Loss: 0.14755388319930202\n",
      "Epoch 154, Average Loss: 0.14626213886858477\n",
      "Epoch 155, Average Loss: 0.1478797299617123\n",
      "Epoch 156, Average Loss: 0.136328728503631\n",
      "Epoch 157, Average Loss: 0.1364079705920807\n",
      "Epoch 158, Average Loss: 0.13948948598595393\n",
      "Epoch 159, Average Loss: 0.1401287351405672\n",
      "Epoch 160, Average Loss: 0.14161600728446283\n",
      "Epoch 161, Average Loss: 0.1412261622697254\n",
      "Epoch 162, Average Loss: 0.13865041631141872\n",
      "Epoch 163, Average Loss: 0.14275118234261536\n",
      "Epoch 164, Average Loss: 0.14076556074302712\n",
      "Epoch 165, Average Loss: 0.154810867853004\n",
      "Epoch 166, Average Loss: 0.1370604137412217\n",
      "Epoch 167, Average Loss: 0.1414251072241042\n",
      "Epoch 168, Average Loss: 0.14499084957746733\n",
      "Epoch 169, Average Loss: 0.14789456206134088\n",
      "Epoch 170, Average Loss: 0.1273126401190486\n",
      "Epoch 171, Average Loss: 0.13718318495527604\n",
      "Epoch 172, Average Loss: 0.15545832293234946\n",
      "Epoch 173, Average Loss: 0.14161892682261792\n",
      "Epoch 174, Average Loss: 0.142716497474145\n",
      "Epoch 175, Average Loss: 0.14156003745451723\n",
      "Epoch 176, Average Loss: 0.15402942900884717\n",
      "Epoch 177, Average Loss: 0.145688455501474\n",
      "Epoch 178, Average Loss: 0.15511913735822622\n",
      "Epoch 179, Average Loss: 0.14495223648924338\n",
      "Epoch 180, Average Loss: 0.1449575431108885\n",
      "Epoch 181, Average Loss: 0.13349783341852087\n",
      "Epoch 182, Average Loss: 0.1602178912361347\n",
      "Epoch 183, Average Loss: 0.14333427902397963\n",
      "Epoch 184, Average Loss: 0.13254086727792494\n",
      "Epoch 185, Average Loss: 0.14298917647423362\n",
      "Epoch 186, Average Loss: 0.14287162664304695\n",
      "Epoch 187, Average Loss: 0.14673310015437457\n",
      "Epoch 188, Average Loss: 0.13972029739316663\n",
      "Epoch 189, Average Loss: 0.15241619820694383\n",
      "Epoch 190, Average Loss: 0.14256816642374537\n",
      "Epoch 191, Average Loss: 0.16256753492652118\n",
      "Epoch 192, Average Loss: 0.13765723952292047\n",
      "Epoch 193, Average Loss: 0.15204475724169594\n",
      "Epoch 194, Average Loss: 0.14243524680383254\n",
      "Epoch 195, Average Loss: 0.15364495995880187\n",
      "Epoch 196, Average Loss: 0.14319747330485358\n",
      "Epoch 197, Average Loss: 0.13455698132782534\n",
      "Epoch 198, Average Loss: 0.14416253010693716\n",
      "Epoch 199, Average Loss: 0.15768695538655034\n"
     ]
    }
   ],
   "source": [
    "for epoch in range(100,200):\n",
    "    total_loss = 0  # Initialize total loss for the epoch\n",
    "    for param in model.parameters():\n",
    "        param.requires_grad_(True)\n",
    "    \n",
    "    for _ in range(len(x_train)):\n",
    "        i = random.randint(0,len(x_train)-1)\n",
    "        predict_y = model(x_train[i]).squeeze(0)\n",
    "        #print(predict_y)\n",
    "        loss = loss_func(predict_y, y_train[i])\n",
    "        total_loss = total_loss + loss.item()\n",
    "\n",
    "        # Backward and optimization steps\n",
    "        loss.backward()\n",
    "        optimizer.step()\n",
    "        optimizer.zero_grad()\n",
    "        predict_y.detach()\n",
    "\n",
    "    # Print average loss for the epoch\n",
    "    avg_loss = total_loss / (len(x_train))\n",
    "    print(f'Epoch {epoch}, Average Loss: {avg_loss}')\n",
    "\n",
    "    # Append to lists for plotting or analysis\n",
    "    e.append(epoch)\n",
    "    l.append(avg_loss)"
   ]
  },
  {
   "cell_type": "code",
   "execution_count": 196,
   "id": "b6204bd8-502f-49cf-b31a-0618752b001b",
   "metadata": {},
   "outputs": [
    {
     "data": {
      "image/png": "[encoded data removed]",
      "text/plain": [
       "<Figure size 640x480 with 1 Axes>"
      ]
     },
     "metadata": {},
     "output_type": "display_data"
    },
    {
     "data": {
      "text/plain": [
       "<Figure size 640x480 with 0 Axes>"
      ]
     },
     "metadata": {},
     "output_type": "display_data"
    }
   ],
   "source": [
    "plt.scatter(np.array(e), np.array(l), color='mediumpurple')\n",
    "plt.xlabel(\"Epoch\")\n",
    "plt.ylabel(\"MSE Loss\")\n",
    "plt.show()\n",
    "plt.savefig(\"epoch_BD1.svg\")"
   ]
  },
  {
   "cell_type": "code",
   "execution_count": 197,
   "id": "d45aedeb-0daa-4c62-8121-bb2db1c75691",
   "metadata": {},
   "outputs": [],
   "source": [
    "PATH = './tree_model.pth'\n",
    "torch.save(model.state_dict(), PATH)"
   ]
  },
  {
   "cell_type": "code",
   "execution_count": 198,
   "id": "f8036dc7-f2de-4021-81b8-cb2522a80997",
   "metadata": {},
   "outputs": [
    {
     "name": "stdout",
     "output_type": "stream",
     "text": [
      "MSE Loss: 0.14169376525678673\n"
     ]
    }
   ],
   "source": [
    "model = myModel(input_dim, hidden_dim, output_dim)\n",
    "model.load_state_dict(torch.load(PATH))\n",
    "\n",
    "with torch.no_grad():\n",
    "    total_loss = 0.0\n",
    "    #temp = x_test\n",
    "    #rand_vector = random.sample(range(0, len(temp) -1),random.randint((len(temp)-1)//2, len(temp)-1))\n",
    "    #selected = [temp[i] for i in rand_vector]\n",
    "    predictions = []\n",
    "    labels = []\n",
    "    \n",
    "    #temp1 = y_test\n",
    "    #selected_test = [temp1[i] for i in rand_vector]\n",
    "\n",
    "    for i in range(0,len(x_test)):\n",
    "        predict_y = model(x_test[i]).squeeze(0)\n",
    "        predictions.append(predict_y.detach().numpy())\n",
    "        labels.append(y_test[i].detach().numpy())\n",
    "        loss = loss_func(predict_y, y_test[i])\n",
    "        #print(loss.item())\n",
    "        total_loss += loss.item()\n",
    "    print(f'MSE Loss: {total_loss/len(x_test)}')\n"
   ]
  },
  {
   "cell_type": "code",
   "execution_count": 199,
   "id": "72cb04c1-0059-4fe1-852f-9f5569df454d",
   "metadata": {},
   "outputs": [],
   "source": [
    "#plot birth rate\n",
    "prediction_birth = []\n",
    "prediction_death = []\n",
    "actual_birth = []\n",
    "actual_death = []\n",
    "for i in predictions:\n",
    "    prediction_birth.append(i[0])\n",
    "    prediction_death.append(i[1])\n",
    "for i in labels:\n",
    "    actual_birth.append(i[0])\n",
    "    actual_death.append(i[1])\n"
   ]
  },
  {
   "cell_type": "code",
   "execution_count": 200,
   "id": "05b76f08-b75b-4a85-a2a6-f3a204904633",
   "metadata": {},
   "outputs": [
    {
     "data": {
      "image/png": "[encoded data removed]",
      "text/plain": [
       "<Figure size 640x480 with 1 Axes>"
      ]
     },
     "metadata": {},
     "output_type": "display_data"
    }
   ],
   "source": [
    "plt.scatter(prediction_birth, actual_birth, color = 'lightblue')\n",
    "plt.scatter(prediction_death, actual_death, color = 'cadetblue')\n",
    "plt.plot([1,4],[1,4])\n",
    "plt.xlabel(\"predictions\")\n",
    "plt.ylabel(\"labels\")\n",
    "plt.savefig(\"predictions_BD1.svg\")"
   ]
  },
  {
   "cell_type": "code",
   "execution_count": null,
   "id": "15c966bd-7c03-47ec-a394-770e2399ef94",
   "metadata": {},
   "outputs": [],
   "source": [
    "#first 100 epochs w 0.1 lr"
   ]
  }
 ],
 "metadata": {
  "kernelspec": {
   "display_name": "Python 3 (ipykernel)",
   "language": "python",
   "name": "python3"
  },
  "language_info": {
   "codemirror_mode": {
    "name": "ipython",
    "version": 3
   },
   "file_extension": ".py",
   "mimetype": "text/x-python",
   "name": "python",
   "nbconvert_exporter": "python",
   "pygments_lexer": "ipython3",
   "version": "3.11.5"
  }
 },
 "nbformat": 4,
 "nbformat_minor": 5
}

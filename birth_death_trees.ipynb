{
 "cells": [
  {
   "cell_type": "markdown",
   "id": "a8008193-4177-4f00-ad53-94ee80b3095b",
   "metadata": {},
   "source": [
    "https://chat.openai.com/share/98bd9fe3-f8ae-4ff4-859a-dd4a7855c429"
   ]
  },
  {
   "cell_type": "code",
   "execution_count": 1,
   "id": "67daff96-1bae-48aa-b251-383f7c6ac434",
   "metadata": {},
   "outputs": [],
   "source": [
    "from dendropy.simulate import treesim\n",
    "import dendropy\n",
    "from Bio import Phylo\n",
    "from io import StringIO\n",
    "import Bio.Phylo.BaseTree\n",
    "import numpy as np\n",
    "import random\n",
    "import matplotlib.pyplot as plt\n",
    "import torch \n",
    "import sklearn\n",
    "from sklearn.model_selection import train_test_split\n",
    "from sklearn.preprocessing import MinMaxScaler\n",
    "from torch.utils.data import Dataset, DataLoader\n",
    "import torch.nn as nn\n",
    "import tensorflow as tf\n",
    "from tensorflow import keras\n",
    "from tensorflow.keras import layers"
   ]
  },
  {
   "cell_type": "markdown",
   "id": "21f0b5c2-2b84-4b2c-834b-6d4ac306ab7c",
   "metadata": {},
   "source": [
    "# Generate birth death trees"
   ]
  },
  {
   "cell_type": "code",
   "execution_count": 59,
   "id": "9b8eb748-189a-4053-a2cb-ac3ea6db7f8a",
   "metadata": {},
   "outputs": [
    {
     "name": "stdout",
     "output_type": "stream",
     "text": [
      "                                                              /------------ T2 \n",
      "/-------------------------------------------------------------+                \n",
      "|                                                             \\------------ T9 \n",
      "|                                                                              \n",
      "+                                                             /------------ T3 \n",
      "|           /-------------------------------------------------+                \n",
      "|           |                                                 \\------------ T8 \n",
      "|           |                                                                  \n",
      "\\-----------+                                                 /------------ T10\n",
      "            |            /------------------------------------+                \n",
      "            |            |                                    \\------------ T1 \n",
      "            |            |                                                     \n",
      "            \\------------+                                    /------------ T7 \n",
      "                         |           /------------------------+                \n",
      "                         |           |                        \\------------ T5 \n",
      "                         \\-----------+                                         \n",
      "                                     |            /------------------------ T11\n",
      "                                     \\------------+                            \n",
      "                                                  |           /------------ T6 \n",
      "                                                  \\-----------+                \n",
      "                                                              \\------------ T4 \n",
      "                                                                               \n",
      "                                                                               \n"
     ]
    }
   ],
   "source": [
    "#birth_death_tree returns a tree generated under a continuous-time birth-death process, with branch lengths in arbitrary time units.\n",
    "t_cont= treesim.birth_death_tree(birth_rate=1.0, death_rate=0.2, num_total_tips=15, repeat_until_success=True)\n",
    "t_cont.print_plot()"
   ]
  },
  {
   "cell_type": "markdown",
   "id": "c606bd72-9fad-425f-bb5b-35f652dec61e",
   "metadata": {},
   "source": [
    "# Convert to Newick string"
   ]
  },
  {
   "cell_type": "code",
   "execution_count": 3,
   "id": "d4a0b005-8605-419d-9863-87593e3fc0a4",
   "metadata": {},
   "outputs": [],
   "source": [
    "newick_str = t_cont.as_string(schema=\"newick\")\n",
    "file = StringIO(newick_str)\n",
    "bio_phylo_tree = Phylo.read(file, \"newick\")"
   ]
  },
  {
   "cell_type": "markdown",
   "id": "c0945abd-8e18-4c69-b997-21fd66c48315",
   "metadata": {},
   "source": [
    "# Get node living data"
   ]
  },
  {
   "cell_type": "code",
   "execution_count": 4,
   "id": "2125445e-c8a7-4708-a704-70ed16b171d7",
   "metadata": {},
   "outputs": [],
   "source": [
    "def get_living_times(tree, node, name_num=0, Dist = {}):\n",
    "    if node == tree.root:\n",
    "        node.name = \"C\"+str(name_num)\n",
    "        Dist[node.name] = [0,0]\n",
    "    if len(node.clades)!=0:\n",
    "        for child in node.clades:\n",
    "            if (child.name==None):\n",
    "                child.name = \"C\"+ str(name_num)\n",
    "                name_num += 1\n",
    "            dist = Dist[node.name][1]\n",
    "            Dist[child.name] = [dist,dist + child.branch_length]\n",
    "            get_living_times(tree, child, name_num+1)\n",
    "    return Dist"
   ]
  },
  {
   "cell_type": "code",
   "execution_count": 5,
   "id": "037f5363-fd6b-4b20-93ac-3c6d5f348a29",
   "metadata": {},
   "outputs": [
    {
     "name": "stdout",
     "output_type": "stream",
     "text": [
      "{'C0': [0, 0.7033978918493721], 'C2': [0.7033978918493721, 0.7312750375403062], 'T9': [0.7312750375403062, 1.6946619249077006], 'T5': [0.7312750375403062, 1.6946619249077006], 'C3': [1.1436437894689602, 1.8864960152261083], 'T10': [0.9394163610382391, 1.6946619249077006], 'T1': [0.9394163610382391, 1.6946619249077004], 'C1': [0.7033978918493721, 1.1436437894689602], 'T3': [1.1436437894689602, 2.3980598167570726], 'T7': [1.8864960152261083, 2.3980598167570726], 'C5': [1.8864960152261083, 2.0890110625231264], 'C7': [2.0890110625231264, 2.181575231879988], 'C9': [2.181575231879988, 2.3980598167570726], 'T8': [2.3980598167570726, 2.3980598167570726], 'T6': [2.3980598167570726, 2.3980598167570726], 'T2': [2.181575231879988, 2.3980598167570726], 'T4': [2.0890110625231264, 2.3980598167570726]}\n"
     ]
    }
   ],
   "source": [
    "print(get_living_times(bio_phylo_tree, bio_phylo_tree.root))"
   ]
  },
  {
   "cell_type": "code",
   "execution_count": 6,
   "id": "81878af3-5707-4a7f-95c6-cb89a2d1bd89",
   "metadata": {},
   "outputs": [
    {
     "data": {
      "image/png": "[encoded data removed]",
      "text/plain": [
       "<Figure size 640x480 with 1 Axes>"
      ]
     },
     "metadata": {},
     "output_type": "display_data"
    }
   ],
   "source": [
    "Phylo.draw(bio_phylo_tree)"
   ]
  },
  {
   "cell_type": "markdown",
   "id": "d8d1ea62-c476-47ba-8d5a-2a71ef8db97f",
   "metadata": {},
   "source": [
    "# Collapse Tree - Trial run"
   ]
  },
  {
   "cell_type": "code",
   "execution_count": 27,
   "id": "415f8e8b-2ca1-4dfa-8435-62fe4d8df12b",
   "metadata": {},
   "outputs": [],
   "source": [
    "#just using arbitrary bias and weights rn for testing\n",
    "bias = np.array([[1],[1]])\n",
    "weights = np.array([[0.5,0.1, 0.2, 0.2],[0.3,0.2, 0.1, 0.6]])\n",
    "living_dict = get_living_times(bio_phylo_tree, bio_phylo_tree.root)\n",
    "\n",
    "#turn dictionary of birth & death of nodes in list format into np vector format\n",
    "def vectorize_dict(D):\n",
    "    for node, [birth, death] in D.items():\n",
    "        D[node] = np.array([birth, death]).reshape(2, 1)\n",
    "    return D\n",
    "\n",
    "living_dict = vectorize_dict(living_dict)"
   ]
  },
  {
   "cell_type": "code",
   "execution_count": 29,
   "id": "e38d6698-078a-412b-b5c2-9a733494a4aa",
   "metadata": {},
   "outputs": [],
   "source": [
    "# collapse all living times to 1 vector\n",
    "def collapse_tree(living_dict, tree, node):\n",
    "    if len(node.clades)==0:\n",
    "        #leaf node\n",
    "        return living_dict[node.name]\n",
    "    else:\n",
    "        result = np.concatenate((collapse_tree(living_dict, tree, node.clades[0]), collapse_tree(living_dict, tree, node.clades[1])), axis=0)\n",
    "        return np.add(np.matmul(weights,result), bias)"
   ]
  },
  {
   "cell_type": "code",
   "execution_count": 30,
   "id": "400d46b1-6f99-40bb-9355-a2e42347cd62",
   "metadata": {},
   "outputs": [
    {
     "name": "stdout",
     "output_type": "stream",
     "text": [
      "[[10.18012713]\n",
      " [12.75030665]]\n"
     ]
    }
   ],
   "source": [
    "print(collapse_tree(living_dict, bio_phylo_tree, bio_phylo_tree.root))"
   ]
  },
  {
   "cell_type": "markdown",
   "id": "4bc28e7a-d5e8-49db-860b-2531d04c2505",
   "metadata": {},
   "source": [
    "# Generate tree dataset"
   ]
  },
  {
   "cell_type": "code",
   "execution_count": 61,
   "id": "0453d5b9-afff-4804-b1da-862bad48ec3a",
   "metadata": {},
   "outputs": [],
   "source": [
    "simulated_trees = []\n",
    "matching_parameters = []\n",
    "MIN_LEAVES = 500\n",
    "MAX_LEAVES = 1000\n",
    "\n",
    "\n",
    "for i in range(0,10000):\n",
    "    #rate_birth = random.random()\n",
    "    rate_death = random.random()\n",
    "    num_leaves = random.randint(MIN_LEAVES,MAX_LEAVES)\n",
    "    t_cont= treesim.birth_death_tree(birth_rate=1.0, death_rate=rate_death, num_total_tips=num_leaves)\n",
    "    simulated_trees.append(t_cont)\n",
    "    matching_parameters.append([1.0,rate_death])"
   ]
  },
  {
   "cell_type": "code",
   "execution_count": 62,
   "id": "8cc389d3-f1e8-41ee-adea-1e7a0c2cfb4a",
   "metadata": {},
   "outputs": [],
   "source": [
    "bio_phylo_simulated_trees = []\n",
    "\n",
    "#convert newick trees into bio phylo tree objects\n",
    "for tree in simulated_trees:\n",
    "    newick_str = tree.as_string(schema=\"newick\")\n",
    "    file = StringIO(newick_str)\n",
    "    bio_phylo_tree = Phylo.read(file, \"newick\")\n",
    "    bio_phylo_simulated_trees.append(bio_phylo_tree)\n",
    "    "
   ]
  },
  {
   "cell_type": "code",
   "execution_count": 63,
   "id": "3c063542-1f1d-40c8-aad3-e640d813751d",
   "metadata": {},
   "outputs": [
    {
     "data": {
      "text/plain": [
       "tensor([[1.0000, 0.0905],\n",
       "        [1.0000, 0.5297],\n",
       "        [1.0000, 0.0391],\n",
       "        ...,\n",
       "        [1.0000, 0.8479],\n",
       "        [1.0000, 0.3707],\n",
       "        [1.0000, 0.2676]], requires_grad=True)"
      ]
     },
     "execution_count": 63,
     "metadata": {},
     "output_type": "execute_result"
    }
   ],
   "source": [
    "x,y = bio_phylo_simulated_trees, matching_parameters\n",
    "\n",
    "y=np.array(y)\n",
    "x_train, x_test, y_train, y_test = train_test_split(x, y, test_size=0.33, random_state=5)\n",
    "y_train = torch.from_numpy(y_train.astype(np.float32))\n",
    "y_test = torch.from_numpy(y_test.astype(np.float32))\n",
    "y_train.requires_grad_(True)\n",
    "y_test.requires_grad_(True)"
   ]
  },
  {
   "cell_type": "markdown",
   "id": "d8bab931-4f6b-4a65-a056-7a4cb1c676dc",
   "metadata": {},
   "source": [
    "# Neural network"
   ]
  },
  {
   "cell_type": "code",
   "execution_count": 64,
   "id": "1a4df40c-cc94-480c-957d-41fef86b2e3f",
   "metadata": {},
   "outputs": [],
   "source": [
    "class treeProcessor(nn.Module):\n",
    "    \n",
    "    def __init__(self, input_dim, hidden_dim, output_dim):\n",
    "        super(treeProcessor, self).__init__()\n",
    "        self.linear = nn.Linear(input_dim, output_dim)\n",
    "        self.sigmoid = nn.Sigmoid()\n",
    "\n",
    "    def forward(self, x, living_dict):\n",
    "        if len(x.clades) == 0:\n",
    "            # Terminal node\n",
    "            survival = living_dict[x.name]\n",
    "            temp = torch.tensor(survival, dtype=torch.float32)\n",
    "            temp = temp.reshape(1, 2)\n",
    "            return temp.detach().clone()  # Use .detach().clone() to create a new tensor without grad\n",
    "\n",
    "        L_collapsed = self.forward(x.clades[0], living_dict).detach().clone()\n",
    "        L_collapsed = L_collapsed.reshape(2, 1)\n",
    "        \n",
    "        R_collapsed = self.forward(x.clades[1], living_dict).detach().clone()\n",
    "        R_collapsed = R_collapsed.reshape(2, 1)\n",
    "\n",
    "        result = torch.cat((L_collapsed, R_collapsed), dim=0)\n",
    "        result = result.reshape(1, 4)\n",
    "\n",
    "        return (self.sigmoid(self.linear(result))).reshape(2, 1)"
   ]
  },
  {
   "cell_type": "code",
   "execution_count": 36,
   "id": "017ea13c-b54d-40cc-89c6-590422953b9d",
   "metadata": {},
   "outputs": [],
   "source": [
    "hi = treeProcessor(4,10,2)\n"
   ]
  },
  {
   "cell_type": "code",
   "execution_count": 37,
   "id": "9289a458-4058-4b0d-9ffd-b705f006ae66",
   "metadata": {},
   "outputs": [
    {
     "data": {
      "text/plain": [
       "tensor([[0.4249],\n",
       "        [0.4546]], grad_fn=<ViewBackward0>)"
      ]
     },
     "execution_count": 37,
     "metadata": {},
     "output_type": "execute_result"
    }
   ],
   "source": [
    "d = vectorize_dict(get_living_times(bio_phylo_tree, bio_phylo_tree.root))\n",
    "hi(bio_phylo_tree.root, d)"
   ]
  },
  {
   "cell_type": "code",
   "execution_count": 65,
   "id": "cdc8f7db-083d-4f02-8bbd-65a3545c4b4b",
   "metadata": {},
   "outputs": [],
   "source": [
    "class myModel(nn.Module):\n",
    "    def __init__(self, input_dim: int, \n",
    "               hidden_dim: int, output_dim: int):\n",
    "        super(myModel,self).__init__()\n",
    "        self.recursive_tree_processor = treeProcessor(4, 4, 2)\n",
    "        self.myModel=nn.Sequential(\n",
    "            nn.Linear(input_dim, hidden_dim),\n",
    "            nn.Sigmoid(),\n",
    "            nn.Linear(hidden_dim, hidden_dim),\n",
    "            nn.Sigmoid(),\n",
    "            nn.Linear(hidden_dim, output_dim)\n",
    "        )\n",
    "    def forward(self,tree):\n",
    "        dict = vectorize_dict(get_living_times(tree, tree.root))\n",
    "        x=self.myModel((self.recursive_tree_processor(tree.root,dict)).reshape(1,2))\n",
    "        x.requires_grad_(True)\n",
    "        return x"
   ]
  },
  {
   "cell_type": "code",
   "execution_count": 66,
   "id": "3841b28d-5e76-47e8-bf7f-37c250a064d6",
   "metadata": {},
   "outputs": [
    {
     "name": "stdout",
     "output_type": "stream",
     "text": [
      "myModel(\n",
      "  (recursive_tree_processor): treeProcessor(\n",
      "    (linear): Linear(in_features=4, out_features=2, bias=True)\n",
      "    (sigmoid): Sigmoid()\n",
      "  )\n",
      "  (myModel): Sequential(\n",
      "    (0): Linear(in_features=2, out_features=10, bias=True)\n",
      "    (1): Sigmoid()\n",
      "    (2): Linear(in_features=10, out_features=10, bias=True)\n",
      "    (3): Sigmoid()\n",
      "    (4): Linear(in_features=10, out_features=2, bias=True)\n",
      "  )\n",
      ")\n"
     ]
    }
   ],
   "source": [
    "input_dim = 2\n",
    "hidden_dim = 10\n",
    "batch_size = 5\n",
    "num_workers = 4\n",
    "output_dim = 2\n",
    "\n",
    "model = myModel(input_dim, hidden_dim, output_dim)\n",
    "print(model)"
   ]
  },
  {
   "cell_type": "code",
   "execution_count": 67,
   "id": "1b844c6e-5992-46a8-a04f-7266e70ca68b",
   "metadata": {},
   "outputs": [],
   "source": [
    "loss_func = nn.MSELoss()\n",
    "optimizer = torch.optim.SGD(model.parameters(), lr=0.01)"
   ]
  },
  {
   "cell_type": "code",
   "execution_count": 68,
   "id": "694da506-2ce2-40be-af01-33191cfaa471",
   "metadata": {},
   "outputs": [
    {
     "name": "stdout",
     "output_type": "stream",
     "text": [
      "Epoch 0, Average Loss: 0.04221385568497375\n",
      "Epoch 1, Average Loss: 0.041691734581679324\n",
      "Epoch 2, Average Loss: 0.041685686783521664\n",
      "Epoch 3, Average Loss: 0.041679693722039335\n",
      "Epoch 4, Average Loss: 0.04167375531423708\n",
      "Epoch 5, Average Loss: 0.04166787185056499\n",
      "Epoch 6, Average Loss: 0.0416620428233962\n",
      "Epoch 7, Average Loss: 0.041656269318897925\n",
      "Epoch 8, Average Loss: 0.041650550589333576\n",
      "Epoch 9, Average Loss: 0.0416448872977015\n",
      "Epoch 10, Average Loss: 0.041639278891327375\n",
      "Epoch 11, Average Loss: 0.04163372597034104\n",
      "Epoch 12, Average Loss: 0.041628227809367556\n",
      "Epoch 13, Average Loss: 0.04162278494550479\n",
      "Epoch 14, Average Loss: 0.041617397155399354\n",
      "Epoch 15, Average Loss: 0.04161206438642405\n",
      "Epoch 16, Average Loss: 0.041606786577135055\n",
      "Epoch 17, Average Loss: 0.041601563549150795\n",
      "Epoch 18, Average Loss: 0.04159639547476969\n",
      "Epoch 19, Average Loss: 0.04159128198876915\n",
      "Epoch 20, Average Loss: 0.04158622306975047\n",
      "Epoch 21, Average Loss: 0.04158121810114979\n",
      "Epoch 22, Average Loss: 0.04157626746926678\n",
      "Epoch 23, Average Loss: 0.04157137083706978\n",
      "Epoch 24, Average Loss: 0.04156652816754389\n",
      "Epoch 25, Average Loss: 0.04156173911694791\n",
      "Epoch 26, Average Loss: 0.04155700313845938\n",
      "Epoch 27, Average Loss: 0.04155232039607204\n",
      "Epoch 28, Average Loss: 0.041547690471070826\n",
      "Epoch 29, Average Loss: 0.041543113430278944\n"
     ]
    }
   ],
   "source": [
    "e = []\n",
    "l = []\n",
    "\n",
    "for epoch in range(30):\n",
    "    total_loss = 0  # Initialize total loss for the epoch\n",
    "    for param in model.parameters():\n",
    "        param.requires_grad_(True)\n",
    "    \n",
    "    for i in range(len(x_train)):\n",
    "        predict_y = model(x_train[i]).squeeze(0)\n",
    "        loss = loss_func(predict_y, y_train[i])\n",
    "        total_loss += loss.item()\n",
    "\n",
    "        # Backward and optimization steps\n",
    "        loss.backward()\n",
    "        optimizer.step()\n",
    "        optimizer.zero_grad()\n",
    "        predict_y.detach()\n",
    "\n",
    "    # Print average loss for the epoch\n",
    "    avg_loss = total_loss / len(x_train)\n",
    "    print(f'Epoch {epoch}, Average Loss: {avg_loss}')\n",
    "\n",
    "    # Append to lists for plotting or analysis\n",
    "    e.append(epoch)\n",
    "    l.append(avg_loss)"
   ]
  },
  {
   "cell_type": "code",
   "execution_count": 76,
   "id": "b6204bd8-502f-49cf-b31a-0618752b001b",
   "metadata": {},
   "outputs": [
    {
     "data": {
      "image/png": "[encoded data removed]",
      "text/plain": [
       "<Figure size 640x480 with 1 Axes>"
      ]
     },
     "metadata": {},
     "output_type": "display_data"
    }
   ],
   "source": [
    "plt.plot(np.array(e), np.array(l), color='purple')\n",
    "plt.xlabel(\"Epoch\")\n",
    "plt.ylabel(\"MSE Loss\")\n",
    "plt.show()"
   ]
  },
  {
   "cell_type": "code",
   "execution_count": 77,
   "id": "d45aedeb-0daa-4c62-8121-bb2db1c75691",
   "metadata": {},
   "outputs": [],
   "source": [
    "PATH = './tree_model.pth'\n",
    "torch.save(model.state_dict(), PATH)"
   ]
  },
  {
   "cell_type": "code",
   "execution_count": 83,
   "id": "f8036dc7-f2de-4021-81b8-cb2522a80997",
   "metadata": {},
   "outputs": [
    {
     "name": "stdout",
     "output_type": "stream",
     "text": [
      "MSE Loss: 0.00002\n"
     ]
    }
   ],
   "source": [
    "model = myModel(input_dim, hidden_dim, output_dim)\n",
    "model.load_state_dict(torch.load(PATH))\n",
    "\n",
    "with torch.no_grad():\n",
    "    total_loss = 0.0\n",
    "    temp = x_test\n",
    "    rand_vector = random.sample(range(0, len(temp) -1),random.randint((len(temp)-1)//2, len(temp)-1))\n",
    "    selected = [temp[i] for i in rand_vector]\n",
    "    predictions = []\n",
    "    labels = []\n",
    "    \n",
    "    temp1 = y_test\n",
    "    selected_test = [temp1[i] for i in rand_vector]\n",
    "\n",
    "    for i in range(len(selected)):\n",
    "        predict_y = model(selected[i]).squeeze(0)\n",
    "        predictions.append(predict_y.detach().numpy())\n",
    "        labels.append(selected_test[i].detach().numpy())\n",
    "        loss = loss_func(predict_y, selected_test[i])\n",
    "        total_loss += loss.item()\n",
    "    loss = total_loss/len(selected)\n",
    "    print(f'MSE Loss: {loss / (i + 1):.5f}')\n"
   ]
  },
  {
   "cell_type": "code",
   "execution_count": 85,
   "id": "05b76f08-b75b-4a85-a2a6-f3a204904633",
   "metadata": {},
   "outputs": [
    {
     "data": {
      "text/plain": [
       "[<matplotlib.lines.Line2D at 0x48c857b50>]"
      ]
     },
     "execution_count": 85,
     "metadata": {},
     "output_type": "execute_result"
    },
    {
     "data": {
      "image/png": "[encoded data removed]",
      "text/plain": [
       "<Figure size 640x480 with 1 Axes>"
      ]
     },
     "metadata": {},
     "output_type": "display_data"
    }
   ],
   "source": [
    "plt.plot(predictions, labels, color = 'violet')\n",
    "plt.xlabel(\"predictions\")\n",
    "plt.ylabel(\"labels\")\n",
    "plt.plot([0,1000],[0,1000])"
   ]
  },
  {
   "cell_type": "code",
   "execution_count": null,
   "id": "5e7650f3-5fef-4b23-9649-023bd2f307d8",
   "metadata": {},
   "outputs": [],
   "source": []
  }
 ],
 "metadata": {
  "kernelspec": {
   "display_name": "Python 3 (ipykernel)",
   "language": "python",
   "name": "python3"
  },
  "language_info": {
   "codemirror_mode": {
    "name": "ipython",
    "version": 3
   },
   "file_extension": ".py",
   "mimetype": "text/x-python",
   "name": "python",
   "nbconvert_exporter": "python",
   "pygments_lexer": "ipython3",
   "version": "3.11.5"
  }
 },
 "nbformat": 4,
 "nbformat_minor": 5
}
